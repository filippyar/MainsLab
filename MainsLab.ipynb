{
 "cells": [
  {
   "cell_type": "code",
   "execution_count": 1,
   "id": "7a9ff459",
   "metadata": {},
   "outputs": [],
   "source": [
    "import pandas as pd\n",
    "import numpy as np\n",
    "\n",
    "def agegroup(age):                                                                         # возрастная группа\n",
    "    if age < 18:\n",
    "        return '0-18'\n",
    "    elif age >=18 and age <40:\n",
    "        return '18-40'\n",
    "    elif age >=40 and age <60:\n",
    "        return '40-60'\n",
    "    elif age >=60 and age <80:\n",
    "        return '60-80'\n",
    "    else:\n",
    "        return '80+'"
   ]
  },
  {
   "cell_type": "code",
   "execution_count": 12,
   "id": "273d0aee",
   "metadata": {},
   "outputs": [],
   "source": [
    "df = pd.read_csv('C:\\\\Users\\\\filip\\\\Downloads\\\\data_test.csv', parse_dates = ['service_date', 'date_of_birth'])\n",
    "df = df.query('service_amount != 0').query('service_number!= 0').query('service_amount < 500000') # убираем лишние строки\n",
    "df['age'] = ((df.service_date - df.date_of_birth) / np.timedelta64 ( 1 , 'Y')).astype('int')  # вычисляем возраст\n",
    "df['age_gr'] = df.age.apply(agegroup)                                                         # добавляем возрастную группу\n",
    "df['case'] = (df.service_date - df.sort_values(['insured', 'l_code', 'service_date']).service_date.shift(1))/np.timedelta64 ( 1 , 'D')\n",
    "                                                        # считаем разницу между датами визитов"
   ]
  },
  {
   "cell_type": "code",
   "execution_count": 13,
   "id": "e2ced770",
   "metadata": {},
   "outputs": [],
   "source": [
    "df.case = df.case.fillna(15) \n",
    "df.sex_id = df.sex_id.fillna('no')\n",
    "df['sale'] = df.service_amount*df.service_number                                         # считаем сумму продажи\n",
    "df['month'] = df.service_date.dt.to_period(\"M\")"
   ]
  },
  {
   "cell_type": "code",
   "execution_count": 4,
   "id": "311059ae",
   "metadata": {},
   "outputs": [],
   "source": [
    "df1 = df.groupby('l_code', as_index=False).agg({'sale' : 'count'}).sort_values('sale', ascending=False).head(10)\n",
    "filter_list = df1.l_code.unique()\n",
    "df_sr_chek = df.query('l_code.isin(@filter_list)').groupby('month', as_index=False).agg({'sale' : 'mean'})\n",
    "                                                                                         # средний чек по месяцам топ 10 клиник"
   ]
  },
  {
   "cell_type": "code",
   "execution_count": 5,
   "id": "ca2fc74c",
   "metadata": {},
   "outputs": [],
   "source": [
    "df2 = df.groupby(['service_date', 'sex_id', 'age_gr', 'insured', 'l_code'], as_index=False)\\\n",
    "       .agg({'record_id' : 'count', 'sale' : 'sum'})\\\n",
    "       .rename(columns={'record_id' : 'visits', 'sale' : 'sale_sum'})"
   ]
  },
  {
   "cell_type": "code",
   "execution_count": 14,
   "id": "8c51facd",
   "metadata": {
    "scrolled": true
   },
   "outputs": [
    {
     "data": {
      "text/plain": [
       "444594"
      ]
     },
     "execution_count": 14,
     "metadata": {},
     "output_type": "execute_result"
    }
   ],
   "source": [
    "df3 = df.query('case > 14 or case < 0').groupby(['service_date', 'sex_id', 'age_gr', 'insured', 'l_code'], as_index=False)\\\n",
    "       .agg({'case' : 'count'})\n",
    "df3.case.sum()"
   ]
  },
  {
   "cell_type": "code",
   "execution_count": 7,
   "id": "04d80da4",
   "metadata": {},
   "outputs": [],
   "source": [
    "df2['month'] = df2.service_date.dt.to_period(\"M\")\n",
    "df3['month'] = df3.service_date.dt.to_period(\"M\")"
   ]
  },
  {
   "cell_type": "code",
   "execution_count": 8,
   "id": "23ef7301",
   "metadata": {},
   "outputs": [],
   "source": [
    "df2 = df2.groupby(['month', 'sex_id', 'age_gr', 'insured'], as_index=False)\\\n",
    "       .agg({'visits' : 'count', 'sale_sum' : 'sum'})\n",
    "df3 = df3.groupby(['month', 'sex_id', 'age_gr', 'insured'], as_index=False)\\\n",
    "       .agg({'case' : 'sum'})\n",
    "df3.case.sum()"
   ]
  },
  {
   "cell_type": "code",
   "execution_count": 9,
   "id": "cf8469b4",
   "metadata": {},
   "outputs": [],
   "source": [
    "df_vis = df2.groupby(['month', 'sex_id', 'age_gr'], as_index=False)\\\n",
    "       .agg({'visits' : 'sum', 'sale_sum' : 'sum', 'insured' : 'count'})\n",
    "df_case = df3.groupby(['month', 'sex_id', 'age_gr'], as_index=False)\\\n",
    "       .agg({'case' : 'sum'})"
   ]
  },
  {
   "cell_type": "code",
   "execution_count": 10,
   "id": "9901d8f8",
   "metadata": {},
   "outputs": [],
   "source": [
    "df = 0\n",
    "df1 = 0\n",
    "df2 = 0\n",
    "df3 = 0"
   ]
  },
  {
   "cell_type": "code",
   "execution_count": 11,
   "id": "f5811001",
   "metadata": {},
   "outputs": [
    {
     "data": {
      "text/plain": [
       "444594"
      ]
     },
     "execution_count": 11,
     "metadata": {},
     "output_type": "execute_result"
    }
   ],
   "source": [
    "df_case.case.sum()"
   ]
  },
  {
   "cell_type": "code",
   "execution_count": null,
   "id": "87f95b8c",
   "metadata": {},
   "outputs": [],
   "source": []
  }
 ],
 "metadata": {
  "kernelspec": {
   "display_name": "Python 3 (ipykernel)",
   "language": "python",
   "name": "python3"
  },
  "language_info": {
   "codemirror_mode": {
    "name": "ipython",
    "version": 3
   },
   "file_extension": ".py",
   "mimetype": "text/x-python",
   "name": "python",
   "nbconvert_exporter": "python",
   "pygments_lexer": "ipython3",
   "version": "3.9.12"
  }
 },
 "nbformat": 4,
 "nbformat_minor": 5
}
